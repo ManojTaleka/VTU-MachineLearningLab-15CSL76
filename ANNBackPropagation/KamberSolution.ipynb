{
 "cells": [
  {
   "cell_type": "code",
   "execution_count": 1,
   "metadata": {},
   "outputs": [
    {
     "name": "stdout",
     "output_type": "stream",
     "text": [
      "[0.47388889882398544]\n"
     ]
    }
   ],
   "source": [
    "from math import exp\n",
    "# Calculate neuron activation (net) for an input\n",
    "def activate(weights, inputs):\n",
    "    activation = weights[-1]\n",
    "    for i in range(len(weights)-1):\n",
    "        activation += weights[i] * inputs[i]\n",
    "    return activation\n",
    " \n",
    "# Transfer neuron activation to sigmoid function \n",
    "def transfer(activation):\n",
    "    return 1.0 / (1.0 + exp(-activation))\n",
    " \n",
    "# Forward propagate input to a network output\n",
    "def forward_propagate(network, row):\n",
    "    inputs = row\n",
    "    for layer in network:\n",
    "        new_inputs = []\n",
    "        for neuron in layer:\n",
    "            activation = activate(neuron['weights'], inputs)\n",
    "            neuron['output'] = transfer(activation)\n",
    "            new_inputs.append(neuron['output'])\n",
    "        inputs = new_inputs\n",
    "    return inputs\n",
    " \n",
    "# test forward propagation\n",
    "network = [[{'weights': [0.2,0.4,-0.5,-0.4]},{'weights':[-0.3,0.1,0.2,0.2]}], [{'weights': [-0.3,-0.2,0.1]}]]\n",
    "row = [1, 0, 1]\n",
    "output = forward_propagate(network, row)\n",
    "print(output)"
   ]
  },
  {
   "cell_type": "code",
   "execution_count": 2,
   "metadata": {
    "collapsed": true
   },
   "outputs": [],
   "source": [
    "# Calculate the derivative of an neuron output\n",
    "def transfer_derivative(output):\n",
    "    return output * (1.0 - output) # ok(1-ok) or oh(1-oh)\n",
    " \n",
    "# Backpropagate error and store in neurons\n",
    "def backward_propagate_error(network, expected):\n",
    "    for i in reversed(range(len(network))):\n",
    "        layer = network[i]\n",
    "        errors = list()\n",
    "        \n",
    "        if i != len(network)-1: # Check for hidden layer or not\n",
    "            for j in range(len(layer)):\n",
    "                error = 0.0\n",
    "                for neuron in network[i + 1]:\n",
    "                    error += (neuron['weights'][j] * neuron['delta']) # summation of Errk * Whk\n",
    "                errors.append(error)\n",
    "        else:                           # output layer\n",
    "            for j in range(len(layer)):\n",
    "                neuron = layer[j]\n",
    "                errors.append(expected[j] - neuron['output']) # (Tk-ok)\n",
    "        \n",
    "        for j in range(len(layer)):\n",
    "            neuron = layer[j]\n",
    "            neuron['delta'] = errors[j] * transfer_derivative(neuron['output'])\n",
    " \n",
    "\n"
   ]
  },
  {
   "cell_type": "code",
   "execution_count": 3,
   "metadata": {
    "collapsed": true
   },
   "outputs": [],
   "source": [
    "# Update network weights with error\n",
    "def update_weights(network, row, l_rate):\n",
    "    for i in range(len(network)):\n",
    "        inputs = row[:-1]\n",
    "        if i != 0:\n",
    "            inputs = [neuron['output'] for neuron in network[i - 1]]\n",
    "        for neuron in network[i]:\n",
    "            for j in range(len(inputs)):\n",
    "                neuron['weights'][j] += l_rate * neuron['delta'] * inputs[j]\n",
    "            neuron['weights'][-1] += l_rate * neuron['delta']\n",
    " \n",
    "\n",
    "# Train a network for a fixed number of epochs\n",
    "def train_network(network, train, l_rate, n_epoch, n_outputs):\n",
    "   \n",
    "    print(\"\\n Network Training Begins:\\n\")\n",
    "    \n",
    "    for epoch in range(n_epoch):\n",
    "        sum_error = 0\n",
    "        for row in train:\n",
    "            outputs = forward_propagate(network, row)\n",
    "            #expected = [0 for i in range(n_outputs)]\n",
    "            expected = [1]\n",
    "            sum_error += sum([(expected[i]-outputs[i])**2 for i in range(len(expected))])\n",
    "            backward_propagate_error(network, expected)\n",
    "            update_weights(network, row, l_rate)\n",
    "        print('>epoch=%d, lrate=%.3f, error=%.3f' % (epoch, l_rate, sum_error))\n",
    "    \n",
    "    print(\"\\n Network Training Ends:\\n\")\n",
    " "
   ]
  },
  {
   "cell_type": "code",
   "execution_count": 5,
   "metadata": {
    "pixiedust": {
     "displayParams": {}
    }
   },
   "outputs": [
    {
     "name": "stdout",
     "output_type": "stream",
     "text": [
      "\n",
      " The input Data Set :\n",
      " [[1, 0, 1, 1]]\n",
      "\n",
      " Number of Inputs :\n",
      " 3\n",
      "\n",
      " Number of Outputs :\n",
      " 1\n",
      "\n",
      " Network Training Begins:\n",
      "\n",
      ">epoch=0, lrate=0.900, error=0.277\n",
      "\n",
      " Network Training Ends:\n",
      "\n",
      "\n",
      " Final Neural Network :\n",
      "\n",
      " Layer[1] Node[1]:\n",
      " {'weights': [0.19214789423111006, 0.4, -0.50785210576889, -0.40785210576888997], 'output': 0.3318122278318339, 'delta': -0.008724561965433263}\n",
      "\n",
      " Layer[1] Node[2]:\n",
      " {'weights': [-0.30588787655775207, 0.1, 0.19411212344224793, 0.19411212344224793], 'output': 0.52497918747894, 'delta': -0.006542085064168994}\n",
      "\n",
      " Layer[2] Node[1]:\n",
      " {'weights': [-0.26082884634154524, -0.13802506750700472, 0.21805217039291008], 'output': 0.47388889882398544, 'delta': 0.1311690782143445}\n"
     ]
    }
   ],
   "source": [
    "#Test training backprop algorithm\n",
    "dataset=[[1,0,1,1]]\n",
    "print(\"\\n The input Data Set :\\n\",dataset)\n",
    "n_inputs = len(dataset[0]) - 1\n",
    "print(\"\\n Number of Inputs :\\n\",n_inputs)\n",
    "n_outputs = len(set([row[-1] for row in dataset]))\n",
    "print(\"\\n Number of Outputs :\\n\",n_outputs)\n",
    "\n",
    "#Network Initialization\n",
    "network = [[{'weights': [0.2,0.4,-0.5,-0.4]},{'weights':[-0.3,0.1,0.2,0.2]}], [{'weights': [-0.3,-0.2,0.1]}]]\n",
    "\n",
    "# Training the Network\n",
    "train_network(network, dataset, 0.90, 1, n_outputs)\n",
    "\n",
    "\n",
    "print(\"\\n Final Neural Network :\")\n",
    "    \n",
    "i= 1\n",
    "for layer in network:\n",
    "    j=1\n",
    "    for sub in layer:\n",
    "        print(\"\\n Layer[%d] Node[%d]:\\n\" %(i,j),sub)\n",
    "        j=j+1\n",
    "    i=i+1"
   ]
  },
  {
   "cell_type": "code",
   "execution_count": null,
   "metadata": {
    "collapsed": true
   },
   "outputs": [],
   "source": []
  }
 ],
 "metadata": {
  "kernelspec": {
   "display_name": "Python 3",
   "language": "python",
   "name": "python3"
  },
  "language_info": {
   "codemirror_mode": {
    "name": "ipython",
    "version": 3
   },
   "file_extension": ".py",
   "mimetype": "text/x-python",
   "name": "python",
   "nbconvert_exporter": "python",
   "pygments_lexer": "ipython3",
   "version": "3.6.3"
  }
 },
 "nbformat": 4,
 "nbformat_minor": 2
}
