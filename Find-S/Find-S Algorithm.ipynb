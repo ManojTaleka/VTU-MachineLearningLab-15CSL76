{
 "cells": [
  {
   "cell_type": "markdown",
   "metadata": {},
   "source": [
    "#### 1. Implement and demonstratethe FIND-S algorithm for finding the most specific hypothesis based on a given set of training data samples. Read the training data from a .CSV file."
   ]
  },
  {
   "cell_type": "code",
   "execution_count": 3,
   "metadata": {},
   "outputs": [
    {
     "name": "stdout",
     "output_type": "stream",
     "text": [
      "\n",
      " The most general hypothesis : ['?','?','?','?','?','?'] \n",
      "\n",
      "\n",
      " The most specific hypothesis : ['0','0','0','0','0','0'] \n",
      "\n",
      "\n",
      " The Given Training Data Set \n",
      "\n",
      "['Sunny', 'Warm', 'Normal', 'Strong', 'Warm', 'Same', 'Yes']\n",
      "['Sunny', 'Warm', 'High', 'Strong', 'Warm', 'Same', 'Yes']\n",
      "['Rainy', 'Cold', 'High', 'Strong', 'Warm', 'Change', 'No']\n",
      "['Sunny', 'Warm', 'High', 'Strong', 'Cool', 'Change', 'Yes']\n",
      "\n",
      " The initial value of hypothesis:\n",
      "['0', '0', '0', '0', '0', '0']\n",
      "\n",
      " Find S: Finding a Maximally Specific Hypothesis\n",
      "\n",
      "For Training Example No :0 the hypothesis is \n",
      " ['Sunny', 'Warm', 'Normal', 'Strong', 'Warm', 'Same']\n",
      "For Training Example No :1 the hypothesis is \n",
      " ['Sunny', 'Warm', '?', 'Strong', 'Warm', 'Same']\n",
      "For Training Example No :2 the hypothesis is \n",
      " ['Sunny', 'Warm', '?', 'Strong', 'Warm', 'Same']\n",
      "For Training Example No :3 the hypothesis is \n",
      " ['Sunny', 'Warm', '?', 'Strong', '?', '?']\n",
      "\n",
      " The Maximally Specific Hypothesis for a given Training Examples :\n",
      "\n",
      "['Sunny', 'Warm', '?', 'Strong', '?', '?']\n"
     ]
    }
   ],
   "source": [
    "import csv\n",
    "attributes = [['Sunny','Cloudy','Rainy'],['Warm','Cold'],['Normal','High'],\n",
    "              ['Strong','Weak'],['Warm','Cool'],['Same','Change']]\n",
    "\n",
    "num_attributes = len(attributes)\n",
    "\n",
    "print (\"\\n The most general hypothesis : ['?','?','?','?','?','?'] \\n\")\n",
    "print (\"\\n The most specific hypothesis : ['0','0','0','0','0','0'] \\n\")\n",
    "# Create an empty list\n",
    "a = []\n",
    "print('\\n The Given Training Data Set \\n')\n",
    "with open('EnjoySport.csv', 'r') as csvFile:\n",
    "    reader = csv.reader(csvFile)\n",
    "    for row in reader:\n",
    "        a.append (row)\n",
    "        print(row)\n",
    "\n",
    "print('\\n The initial value of hypothesis:')\n",
    "hypothesis = ['0'] * num_attributes # repeat the '0' no of attribute times\n",
    "print(hypothesis)\n",
    "\n",
    "# Comparing with First Training Example \n",
    "for j in range(0,num_attributes):\n",
    "       hypothesis[j] = a[0][j]\n",
    "\n",
    "# Comparing with Remaining Training Examples of Given Data Set\n",
    "print('\\n Find S: Finding a Maximally Specific Hypothesis\\n')\n",
    "\n",
    "for i in range(0,len(a)):\n",
    "    # Check whether the training example is positive or not\n",
    "    if a[i][num_attributes]=='Yes':\n",
    "            for j in range(0,num_attributes):\n",
    "# Check whether attribute constraint satisfies the positive example\n",
    "                if a[i][j]!=hypothesis[j]:\n",
    "                    hypothesis[j]='?'\n",
    "                else:\n",
    "                    hypothesis[j]= a[i][j] \n",
    "    print('For Training Example No :{0} the hypothesis is \\n'.format(i),hypothesis)\n",
    "                \n",
    "print('\\n The Maximally Specific Hypothesis for a given Training Examples :\\n')\n",
    "print(hypothesis)   "
   ]
  },
  {
   "cell_type": "code",
   "execution_count": null,
   "metadata": {
    "collapsed": true
   },
   "outputs": [],
   "source": []
  },
  {
   "cell_type": "code",
   "execution_count": null,
   "metadata": {
    "collapsed": true
   },
   "outputs": [],
   "source": []
  },
  {
   "cell_type": "code",
   "execution_count": null,
   "metadata": {
    "collapsed": true
   },
   "outputs": [],
   "source": []
  }
 ],
 "metadata": {
  "kernelspec": {
   "display_name": "Python 3",
   "language": "python",
   "name": "python3"
  },
  "language_info": {
   "codemirror_mode": {
    "name": "ipython",
    "version": 3
   },
   "file_extension": ".py",
   "mimetype": "text/x-python",
   "name": "python",
   "nbconvert_exporter": "python",
   "pygments_lexer": "ipython3",
   "version": "3.6.3"
  }
 },
 "nbformat": 4,
 "nbformat_minor": 2
}
