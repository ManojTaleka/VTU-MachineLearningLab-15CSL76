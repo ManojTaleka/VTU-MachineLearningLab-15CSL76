{
 "cells": [
  {
   "cell_type": "markdown",
   "metadata": {},
   "source": [
    "# randrange()"
   ]
  },
  {
   "cell_type": "markdown",
   "metadata": {},
   "source": [
    "#### Syntax : random.randrange(start(opt),stop,step(opt))  Parameters :                                                                                    start(opt) :  Number consideration for generation starts from this, default value is 0. This parameter is optional.                                     stop : Numbers less than this are generated. This parameter is mandatory.                                                                                       step(opt) : Step point of range, this won't be included. This is optional.Default value is 1.                                                                 Return Value : This function generated the numbers in the sequence start-stop skipping step                                                                  Exceptions :Raises ValueError if stop <= start and number is non- integral."
   ]
  },
  {
   "cell_type": "code",
   "execution_count": 1,
   "metadata": {},
   "outputs": [
    {
     "name": "stdout",
     "output_type": "stream",
     "text": [
      "Random number from 0-100 is : 41\n",
      "Random number from 50-100 is : 70\n",
      "Random number from 50-100 skip 5 is : 95\n"
     ]
    }
   ],
   "source": [
    "\n",
    "# Python code to demonstrate the working of  \n",
    "# randrange() \n",
    "  \n",
    "import random \n",
    "  \n",
    "# Using randrange() to generate numbers from 0-100 \n",
    "print (\"Random number from 0-100 is : \",end=\"\") \n",
    "print (random.randrange(100)) \n",
    "  \n",
    "# Using randrange() to generate numbers from 50-100 \n",
    "print (\"Random number from 50-100 is : \",end=\"\") \n",
    "print (random.randrange(50,100)) \n",
    "  \n",
    "# Using randrange() to generate numbers from 50-100 \n",
    "# skipping 5 \n",
    "print (\"Random number from 50-100 skip 5 is : \",end=\"\") \n",
    "print (random.randrange(50,100,5))"
   ]
  },
  {
   "cell_type": "code",
   "execution_count": 5,
   "metadata": {},
   "outputs": [
    {
     "name": "stdout",
     "output_type": "stream",
     "text": [
      "[(10, 50, 90), (20, 60, 100), (30, 70, 110), (40, 80, 120)]\n"
     ]
    }
   ],
   "source": [
    "numlist=[[10,20,30,40],[50,60,70,80],[90,100,110,120]]\n",
    "# * is an unpacking operator when it appears behind an iterator\n",
    "print(list(zip(*numlist)))"
   ]
  },
  {
   "cell_type": "code",
   "execution_count": null,
   "metadata": {
    "collapsed": true
   },
   "outputs": [],
   "source": []
  }
 ],
 "metadata": {
  "kernelspec": {
   "display_name": "Python 3",
   "language": "python",
   "name": "python3"
  },
  "language_info": {
   "codemirror_mode": {
    "name": "ipython",
    "version": 3
   },
   "file_extension": ".py",
   "mimetype": "text/x-python",
   "name": "python",
   "nbconvert_exporter": "python",
   "pygments_lexer": "ipython3",
   "version": "3.6.3"
  }
 },
 "nbformat": 4,
 "nbformat_minor": 2
}
