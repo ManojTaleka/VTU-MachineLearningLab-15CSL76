{
 "cells": [
  {
   "cell_type": "code",
   "execution_count": 2,
   "metadata": {},
   "outputs": [
    {
     "name": "stdout",
     "output_type": "stream",
     "text": [
      "True\n",
      "['D', 'G', 'I', 'L', 'S']\n"
     ]
    }
   ],
   "source": [
    "from pgmpy.models import BayesianModel\n",
    "from pgmpy.factors.discrete import TabularCPD\n",
    "\n",
    "# Defining the model structure. We can define the network by just passing a list of edges.\n",
    "model = BayesianModel([('D', 'G'), ('I', 'G'), ('G', 'L'),\n",
    "                       ('I', 'S')])\n",
    "\n",
    "# Defining individual CPDs.\n",
    "cpd_d = TabularCPD(variable='D', variable_card=2, \n",
    "                   values=[[0.6, 0.4]])\n",
    "cpd_i = TabularCPD(variable='I', variable_card=2, \n",
    "                   values=[[0.7, 0.3]])\n",
    "\n",
    "cpd_g = TabularCPD(variable='G', variable_card=3, \n",
    "                   values=[[0.3, 0.05, 0.9,  0.5],\n",
    "                           [0.4, 0.25, 0.08, 0.3],\n",
    "                           [0.3, 0.7,  0.02, 0.2]],\n",
    "                  evidence=['I', 'D'],\n",
    "                  evidence_card=[2, 2])\n",
    "\n",
    "cpd_l = TabularCPD(variable='L', variable_card=2, \n",
    "                   values=[[0.1, 0.4, 0.99],\n",
    "                           [0.9, 0.6, 0.01]],\n",
    "                   evidence=['G'],\n",
    "                   evidence_card=[3])\n",
    "\n",
    "cpd_s = TabularCPD(variable='S', variable_card=2,\n",
    "                   values=[[0.95, 0.2],\n",
    "                           [0.05, 0.8]],\n",
    "                   evidence=['I'],\n",
    "                   evidence_card=[2])\n",
    "\n",
    "# Associating the CPDs with the network\n",
    "model.add_cpds(cpd_d, cpd_i, cpd_g, cpd_l, cpd_s)\n",
    "\n",
    "print(model.check_model())\n",
    "print(model.nodes())"
   ]
  },
  {
   "cell_type": "code",
   "execution_count": 4,
   "metadata": {},
   "outputs": [
    {
     "data": {
      "text/plain": [
       "[<TabularCPD representing P(D:2) at 0x197c82fe390>,\n",
       " <TabularCPD representing P(I:2) at 0x197c82fe3c8>,\n",
       " <TabularCPD representing P(G:3 | I:2, D:2) at 0x197c82fe4e0>,\n",
       " <TabularCPD representing P(L:2 | G:3) at 0x197c82fe400>,\n",
       " <TabularCPD representing P(S:2 | I:2) at 0x197ca42d940>]"
      ]
     },
     "execution_count": 4,
     "metadata": {},
     "output_type": "execute_result"
    }
   ],
   "source": [
    "# We can now call some methods on the BayesianModel object.\n",
    "model.get_cpds()\n"
   ]
  },
  {
   "cell_type": "code",
   "execution_count": 5,
   "metadata": {},
   "outputs": [
    {
     "name": "stdout",
     "output_type": "stream",
     "text": [
      "╒═════╤═════╤══════╤══════╤═════╕\n",
      "│ I   │ I_0 │ I_0  │ I_1  │ I_1 │\n",
      "├─────┼─────┼──────┼──────┼─────┤\n",
      "│ D   │ D_0 │ D_1  │ D_0  │ D_1 │\n",
      "├─────┼─────┼──────┼──────┼─────┤\n",
      "│ G_0 │ 0.3 │ 0.05 │ 0.9  │ 0.5 │\n",
      "├─────┼─────┼──────┼──────┼─────┤\n",
      "│ G_1 │ 0.4 │ 0.25 │ 0.08 │ 0.3 │\n",
      "├─────┼─────┼──────┼──────┼─────┤\n",
      "│ G_2 │ 0.3 │ 0.7  │ 0.02 │ 0.2 │\n",
      "╘═════╧═════╧══════╧══════╧═════╛\n"
     ]
    }
   ],
   "source": [
    "print(model.get_cpds('G'))"
   ]
  },
  {
   "cell_type": "code",
   "execution_count": 6,
   "metadata": {},
   "outputs": [
    {
     "data": {
      "text/plain": [
       "3"
      ]
     },
     "execution_count": 6,
     "metadata": {},
     "output_type": "execute_result"
    }
   ],
   "source": [
    "model.get_cardinality('G')"
   ]
  },
  {
   "cell_type": "code",
   "execution_count": 7,
   "metadata": {},
   "outputs": [
    {
     "data": {
      "text/plain": [
       "(G _|_ S, L | I, D)"
      ]
     },
     "execution_count": 7,
     "metadata": {},
     "output_type": "execute_result"
    }
   ],
   "source": [
    "# Getting the local independencies of a variable.\n",
    "model.local_independencies('G')"
   ]
  },
  {
   "cell_type": "code",
   "execution_count": 8,
   "metadata": {},
   "outputs": [
    {
     "data": {
      "text/plain": [
       "(D _|_ S, G, I, L)\n",
       "(I _|_ S, G, L, D)\n",
       "(S _|_ G, L, D | I)\n",
       "(G _|_ S, L | I, D)\n",
       "(L _|_ S, I, D | G)"
      ]
     },
     "execution_count": 8,
     "metadata": {},
     "output_type": "execute_result"
    }
   ],
   "source": [
    "# Getting all the local independencies in the network.\n",
    "model.local_independencies(['D', 'I', 'S', 'G', 'L'])"
   ]
  },
  {
   "cell_type": "code",
   "execution_count": 9,
   "metadata": {},
   "outputs": [
    {
     "name": "stdout",
     "output_type": "stream",
     "text": [
      "╒═════╤══════════╕\n",
      "│ G   │   phi(G) │\n",
      "╞═════╪══════════╡\n",
      "│ G_0 │   0.3620 │\n",
      "├─────┼──────────┤\n",
      "│ G_1 │   0.2884 │\n",
      "├─────┼──────────┤\n",
      "│ G_2 │   0.3496 │\n",
      "╘═════╧══════════╛\n"
     ]
    },
    {
     "name": "stderr",
     "output_type": "stream",
     "text": [
      "C:\\Anaconda3\\lib\\site-packages\\pgmpy\\factors\\discrete\\DiscreteFactor.py:598: FutureWarning: Using a non-tuple sequence for multidimensional indexing is deprecated; use `arr[tuple(seq)]` instead of `arr[seq]`. In the future this will be interpreted as an array index, `arr[np.array(seq)]`, which will result either in an error or a different result.\n",
      "  phi1.values = phi1.values[slice_]\n",
      "C:\\Anaconda3\\lib\\site-packages\\pgmpy\\factors\\discrete\\DiscreteFactor.py:586: FutureWarning: Using a non-tuple sequence for multidimensional indexing is deprecated; use `arr[tuple(seq)]` instead of `arr[seq]`. In the future this will be interpreted as an array index, `arr[np.array(seq)]`, which will result either in an error or a different result.\n",
      "  phi.values = phi.values[slice_]\n"
     ]
    }
   ],
   "source": [
    "from pgmpy.inference import VariableElimination\n",
    "infer = VariableElimination(model)\n",
    "print(infer.query(['G']) ['G'])"
   ]
  },
  {
   "cell_type": "code",
   "execution_count": 10,
   "metadata": {},
   "outputs": [
    {
     "name": "stdout",
     "output_type": "stream",
     "text": [
      "╒═════╤══════════╕\n",
      "│ G   │   phi(G) │\n",
      "╞═════╪══════════╡\n",
      "│ G_0 │   0.9000 │\n",
      "├─────┼──────────┤\n",
      "│ G_1 │   0.0800 │\n",
      "├─────┼──────────┤\n",
      "│ G_2 │   0.0200 │\n",
      "╘═════╧══════════╛\n"
     ]
    }
   ],
   "source": [
    "print(infer.query(['G'], evidence={'D': 0, 'I': 1}) ['G'])"
   ]
  },
  {
   "cell_type": "code",
   "execution_count": 11,
   "metadata": {},
   "outputs": [
    {
     "name": "stdout",
     "output_type": "stream",
     "text": [
      "╒═════╤══════════╕\n",
      "│ G   │   phi(G) │\n",
      "╞═════╪══════════╡\n",
      "│ G_0 │   0.5000 │\n",
      "├─────┼──────────┤\n",
      "│ G_1 │   0.3000 │\n",
      "├─────┼──────────┤\n",
      "│ G_2 │   0.2000 │\n",
      "╘═════╧══════════╛\n"
     ]
    }
   ],
   "source": [
    "print(infer.query(['G'], evidence={'D': 1, 'I': 1,'S':1}) ['G'])"
   ]
  },
  {
   "cell_type": "code",
   "execution_count": 12,
   "metadata": {},
   "outputs": [
    {
     "name": "stdout",
     "output_type": "stream",
     "text": [
      "╒═════╤══════════╕\n",
      "│ L   │   phi(L) │\n",
      "╞═════╪══════════╡\n",
      "│ L_0 │   0.4000 │\n",
      "├─────┼──────────┤\n",
      "│ L_1 │   0.6000 │\n",
      "╘═════╧══════════╛\n"
     ]
    }
   ],
   "source": [
    "print(infer.query(['L'], evidence={'D': 1, 'I': 1,'G':1}) ['L'])"
   ]
  },
  {
   "cell_type": "code",
   "execution_count": null,
   "metadata": {},
   "outputs": [],
   "source": []
  }
 ],
 "metadata": {
  "kernelspec": {
   "display_name": "Python 3",
   "language": "python",
   "name": "python3"
  },
  "language_info": {
   "codemirror_mode": {
    "name": "ipython",
    "version": 3
   },
   "file_extension": ".py",
   "mimetype": "text/x-python",
   "name": "python",
   "nbconvert_exporter": "python",
   "pygments_lexer": "ipython3",
   "version": "3.7.0"
  }
 },
 "nbformat": 4,
 "nbformat_minor": 2
}
